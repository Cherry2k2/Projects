{
  "nbformat": 4,
  "nbformat_minor": 0,
  "metadata": {
    "colab": {
      "provenance": []
    },
    "kernelspec": {
      "name": "python3",
      "display_name": "Python 3"
    },
    "language_info": {
      "name": "python"
    }
  },
  "cells": [
    {
      "cell_type": "code",
      "execution_count": 25,
      "metadata": {
        "id": "53e-kgWTHnH6"
      },
      "outputs": [],
      "source": [
        "#import the libraries\n",
        "import os\n",
        "import numpy as np\n",
        "import pandas as pd\n",
        "import matplotlib.pyplot as plt"
      ]
    },
    {
      "cell_type": "code",
      "source": [
        "#load the training dataset\n",
        "train_data = pd.read_csv(\"/content/Google_Stock_Price_Train.csv\")\n",
        "train_data"
      ],
      "metadata": {
        "colab": {
          "base_uri": "https://localhost:8080/",
          "height": 424
        },
        "id": "TcB4z7yqMIh0",
        "outputId": "bada2c04-e528-460c-8e6e-022f1604ea17"
      },
      "execution_count": 26,
      "outputs": [
        {
          "output_type": "execute_result",
          "data": {
            "text/plain": [
              "            Date    Open    High     Low   Close      Volume\n",
              "0       1/3/2012  325.25  332.83  324.97  663.59   7,380,500\n",
              "1       1/4/2012  331.27  333.87  329.08  666.45   5,749,400\n",
              "2       1/5/2012  329.83  330.75  326.89  657.21   6,590,300\n",
              "3       1/6/2012  328.34  328.77  323.68  648.24   5,405,900\n",
              "4       1/9/2012  322.04  322.29  309.46  620.76  11,688,800\n",
              "...          ...     ...     ...     ...     ...         ...\n",
              "1253  12/23/2016  790.90  792.74  787.28  789.91     623,400\n",
              "1254  12/27/2016  790.68  797.86  787.66  791.55     789,100\n",
              "1255  12/28/2016  793.70  794.23  783.20  785.05   1,153,800\n",
              "1256  12/29/2016  783.33  785.93  778.92  782.79     744,300\n",
              "1257  12/30/2016  782.75  782.78  770.41  771.82   1,770,000\n",
              "\n",
              "[1258 rows x 6 columns]"
            ],
            "text/html": [
              "\n",
              "  <div id=\"df-4a6d4c71-6594-4fad-bf25-590ab1dafc4d\" class=\"colab-df-container\">\n",
              "    <div>\n",
              "<style scoped>\n",
              "    .dataframe tbody tr th:only-of-type {\n",
              "        vertical-align: middle;\n",
              "    }\n",
              "\n",
              "    .dataframe tbody tr th {\n",
              "        vertical-align: top;\n",
              "    }\n",
              "\n",
              "    .dataframe thead th {\n",
              "        text-align: right;\n",
              "    }\n",
              "</style>\n",
              "<table border=\"1\" class=\"dataframe\">\n",
              "  <thead>\n",
              "    <tr style=\"text-align: right;\">\n",
              "      <th></th>\n",
              "      <th>Date</th>\n",
              "      <th>Open</th>\n",
              "      <th>High</th>\n",
              "      <th>Low</th>\n",
              "      <th>Close</th>\n",
              "      <th>Volume</th>\n",
              "    </tr>\n",
              "  </thead>\n",
              "  <tbody>\n",
              "    <tr>\n",
              "      <th>0</th>\n",
              "      <td>1/3/2012</td>\n",
              "      <td>325.25</td>\n",
              "      <td>332.83</td>\n",
              "      <td>324.97</td>\n",
              "      <td>663.59</td>\n",
              "      <td>7,380,500</td>\n",
              "    </tr>\n",
              "    <tr>\n",
              "      <th>1</th>\n",
              "      <td>1/4/2012</td>\n",
              "      <td>331.27</td>\n",
              "      <td>333.87</td>\n",
              "      <td>329.08</td>\n",
              "      <td>666.45</td>\n",
              "      <td>5,749,400</td>\n",
              "    </tr>\n",
              "    <tr>\n",
              "      <th>2</th>\n",
              "      <td>1/5/2012</td>\n",
              "      <td>329.83</td>\n",
              "      <td>330.75</td>\n",
              "      <td>326.89</td>\n",
              "      <td>657.21</td>\n",
              "      <td>6,590,300</td>\n",
              "    </tr>\n",
              "    <tr>\n",
              "      <th>3</th>\n",
              "      <td>1/6/2012</td>\n",
              "      <td>328.34</td>\n",
              "      <td>328.77</td>\n",
              "      <td>323.68</td>\n",
              "      <td>648.24</td>\n",
              "      <td>5,405,900</td>\n",
              "    </tr>\n",
              "    <tr>\n",
              "      <th>4</th>\n",
              "      <td>1/9/2012</td>\n",
              "      <td>322.04</td>\n",
              "      <td>322.29</td>\n",
              "      <td>309.46</td>\n",
              "      <td>620.76</td>\n",
              "      <td>11,688,800</td>\n",
              "    </tr>\n",
              "    <tr>\n",
              "      <th>...</th>\n",
              "      <td>...</td>\n",
              "      <td>...</td>\n",
              "      <td>...</td>\n",
              "      <td>...</td>\n",
              "      <td>...</td>\n",
              "      <td>...</td>\n",
              "    </tr>\n",
              "    <tr>\n",
              "      <th>1253</th>\n",
              "      <td>12/23/2016</td>\n",
              "      <td>790.90</td>\n",
              "      <td>792.74</td>\n",
              "      <td>787.28</td>\n",
              "      <td>789.91</td>\n",
              "      <td>623,400</td>\n",
              "    </tr>\n",
              "    <tr>\n",
              "      <th>1254</th>\n",
              "      <td>12/27/2016</td>\n",
              "      <td>790.68</td>\n",
              "      <td>797.86</td>\n",
              "      <td>787.66</td>\n",
              "      <td>791.55</td>\n",
              "      <td>789,100</td>\n",
              "    </tr>\n",
              "    <tr>\n",
              "      <th>1255</th>\n",
              "      <td>12/28/2016</td>\n",
              "      <td>793.70</td>\n",
              "      <td>794.23</td>\n",
              "      <td>783.20</td>\n",
              "      <td>785.05</td>\n",
              "      <td>1,153,800</td>\n",
              "    </tr>\n",
              "    <tr>\n",
              "      <th>1256</th>\n",
              "      <td>12/29/2016</td>\n",
              "      <td>783.33</td>\n",
              "      <td>785.93</td>\n",
              "      <td>778.92</td>\n",
              "      <td>782.79</td>\n",
              "      <td>744,300</td>\n",
              "    </tr>\n",
              "    <tr>\n",
              "      <th>1257</th>\n",
              "      <td>12/30/2016</td>\n",
              "      <td>782.75</td>\n",
              "      <td>782.78</td>\n",
              "      <td>770.41</td>\n",
              "      <td>771.82</td>\n",
              "      <td>1,770,000</td>\n",
              "    </tr>\n",
              "  </tbody>\n",
              "</table>\n",
              "<p>1258 rows × 6 columns</p>\n",
              "</div>\n",
              "    <div class=\"colab-df-buttons\">\n",
              "\n",
              "  <div class=\"colab-df-container\">\n",
              "    <button class=\"colab-df-convert\" onclick=\"convertToInteractive('df-4a6d4c71-6594-4fad-bf25-590ab1dafc4d')\"\n",
              "            title=\"Convert this dataframe to an interactive table.\"\n",
              "            style=\"display:none;\">\n",
              "\n",
              "  <svg xmlns=\"http://www.w3.org/2000/svg\" height=\"24px\" viewBox=\"0 -960 960 960\">\n",
              "    <path d=\"M120-120v-720h720v720H120Zm60-500h600v-160H180v160Zm220 220h160v-160H400v160Zm0 220h160v-160H400v160ZM180-400h160v-160H180v160Zm440 0h160v-160H620v160ZM180-180h160v-160H180v160Zm440 0h160v-160H620v160Z\"/>\n",
              "  </svg>\n",
              "    </button>\n",
              "\n",
              "  <style>\n",
              "    .colab-df-container {\n",
              "      display:flex;\n",
              "      gap: 12px;\n",
              "    }\n",
              "\n",
              "    .colab-df-convert {\n",
              "      background-color: #E8F0FE;\n",
              "      border: none;\n",
              "      border-radius: 50%;\n",
              "      cursor: pointer;\n",
              "      display: none;\n",
              "      fill: #1967D2;\n",
              "      height: 32px;\n",
              "      padding: 0 0 0 0;\n",
              "      width: 32px;\n",
              "    }\n",
              "\n",
              "    .colab-df-convert:hover {\n",
              "      background-color: #E2EBFA;\n",
              "      box-shadow: 0px 1px 2px rgba(60, 64, 67, 0.3), 0px 1px 3px 1px rgba(60, 64, 67, 0.15);\n",
              "      fill: #174EA6;\n",
              "    }\n",
              "\n",
              "    .colab-df-buttons div {\n",
              "      margin-bottom: 4px;\n",
              "    }\n",
              "\n",
              "    [theme=dark] .colab-df-convert {\n",
              "      background-color: #3B4455;\n",
              "      fill: #D2E3FC;\n",
              "    }\n",
              "\n",
              "    [theme=dark] .colab-df-convert:hover {\n",
              "      background-color: #434B5C;\n",
              "      box-shadow: 0px 1px 3px 1px rgba(0, 0, 0, 0.15);\n",
              "      filter: drop-shadow(0px 1px 2px rgba(0, 0, 0, 0.3));\n",
              "      fill: #FFFFFF;\n",
              "    }\n",
              "  </style>\n",
              "\n",
              "    <script>\n",
              "      const buttonEl =\n",
              "        document.querySelector('#df-4a6d4c71-6594-4fad-bf25-590ab1dafc4d button.colab-df-convert');\n",
              "      buttonEl.style.display =\n",
              "        google.colab.kernel.accessAllowed ? 'block' : 'none';\n",
              "\n",
              "      async function convertToInteractive(key) {\n",
              "        const element = document.querySelector('#df-4a6d4c71-6594-4fad-bf25-590ab1dafc4d');\n",
              "        const dataTable =\n",
              "          await google.colab.kernel.invokeFunction('convertToInteractive',\n",
              "                                                    [key], {});\n",
              "        if (!dataTable) return;\n",
              "\n",
              "        const docLinkHtml = 'Like what you see? Visit the ' +\n",
              "          '<a target=\"_blank\" href=https://colab.research.google.com/notebooks/data_table.ipynb>data table notebook</a>'\n",
              "          + ' to learn more about interactive tables.';\n",
              "        element.innerHTML = '';\n",
              "        dataTable['output_type'] = 'display_data';\n",
              "        await google.colab.output.renderOutput(dataTable, element);\n",
              "        const docLink = document.createElement('div');\n",
              "        docLink.innerHTML = docLinkHtml;\n",
              "        element.appendChild(docLink);\n",
              "      }\n",
              "    </script>\n",
              "  </div>\n",
              "\n",
              "\n",
              "<div id=\"df-58e73dc2-ec99-4a76-9992-31095b39194c\">\n",
              "  <button class=\"colab-df-quickchart\" onclick=\"quickchart('df-58e73dc2-ec99-4a76-9992-31095b39194c')\"\n",
              "            title=\"Suggest charts.\"\n",
              "            style=\"display:none;\">\n",
              "\n",
              "<svg xmlns=\"http://www.w3.org/2000/svg\" height=\"24px\"viewBox=\"0 0 24 24\"\n",
              "     width=\"24px\">\n",
              "    <g>\n",
              "        <path d=\"M19 3H5c-1.1 0-2 .9-2 2v14c0 1.1.9 2 2 2h14c1.1 0 2-.9 2-2V5c0-1.1-.9-2-2-2zM9 17H7v-7h2v7zm4 0h-2V7h2v10zm4 0h-2v-4h2v4z\"/>\n",
              "    </g>\n",
              "</svg>\n",
              "  </button>\n",
              "\n",
              "<style>\n",
              "  .colab-df-quickchart {\n",
              "      --bg-color: #E8F0FE;\n",
              "      --fill-color: #1967D2;\n",
              "      --hover-bg-color: #E2EBFA;\n",
              "      --hover-fill-color: #174EA6;\n",
              "      --disabled-fill-color: #AAA;\n",
              "      --disabled-bg-color: #DDD;\n",
              "  }\n",
              "\n",
              "  [theme=dark] .colab-df-quickchart {\n",
              "      --bg-color: #3B4455;\n",
              "      --fill-color: #D2E3FC;\n",
              "      --hover-bg-color: #434B5C;\n",
              "      --hover-fill-color: #FFFFFF;\n",
              "      --disabled-bg-color: #3B4455;\n",
              "      --disabled-fill-color: #666;\n",
              "  }\n",
              "\n",
              "  .colab-df-quickchart {\n",
              "    background-color: var(--bg-color);\n",
              "    border: none;\n",
              "    border-radius: 50%;\n",
              "    cursor: pointer;\n",
              "    display: none;\n",
              "    fill: var(--fill-color);\n",
              "    height: 32px;\n",
              "    padding: 0;\n",
              "    width: 32px;\n",
              "  }\n",
              "\n",
              "  .colab-df-quickchart:hover {\n",
              "    background-color: var(--hover-bg-color);\n",
              "    box-shadow: 0 1px 2px rgba(60, 64, 67, 0.3), 0 1px 3px 1px rgba(60, 64, 67, 0.15);\n",
              "    fill: var(--button-hover-fill-color);\n",
              "  }\n",
              "\n",
              "  .colab-df-quickchart-complete:disabled,\n",
              "  .colab-df-quickchart-complete:disabled:hover {\n",
              "    background-color: var(--disabled-bg-color);\n",
              "    fill: var(--disabled-fill-color);\n",
              "    box-shadow: none;\n",
              "  }\n",
              "\n",
              "  .colab-df-spinner {\n",
              "    border: 2px solid var(--fill-color);\n",
              "    border-color: transparent;\n",
              "    border-bottom-color: var(--fill-color);\n",
              "    animation:\n",
              "      spin 1s steps(1) infinite;\n",
              "  }\n",
              "\n",
              "  @keyframes spin {\n",
              "    0% {\n",
              "      border-color: transparent;\n",
              "      border-bottom-color: var(--fill-color);\n",
              "      border-left-color: var(--fill-color);\n",
              "    }\n",
              "    20% {\n",
              "      border-color: transparent;\n",
              "      border-left-color: var(--fill-color);\n",
              "      border-top-color: var(--fill-color);\n",
              "    }\n",
              "    30% {\n",
              "      border-color: transparent;\n",
              "      border-left-color: var(--fill-color);\n",
              "      border-top-color: var(--fill-color);\n",
              "      border-right-color: var(--fill-color);\n",
              "    }\n",
              "    40% {\n",
              "      border-color: transparent;\n",
              "      border-right-color: var(--fill-color);\n",
              "      border-top-color: var(--fill-color);\n",
              "    }\n",
              "    60% {\n",
              "      border-color: transparent;\n",
              "      border-right-color: var(--fill-color);\n",
              "    }\n",
              "    80% {\n",
              "      border-color: transparent;\n",
              "      border-right-color: var(--fill-color);\n",
              "      border-bottom-color: var(--fill-color);\n",
              "    }\n",
              "    90% {\n",
              "      border-color: transparent;\n",
              "      border-bottom-color: var(--fill-color);\n",
              "    }\n",
              "  }\n",
              "</style>\n",
              "\n",
              "  <script>\n",
              "    async function quickchart(key) {\n",
              "      const quickchartButtonEl =\n",
              "        document.querySelector('#' + key + ' button');\n",
              "      quickchartButtonEl.disabled = true;  // To prevent multiple clicks.\n",
              "      quickchartButtonEl.classList.add('colab-df-spinner');\n",
              "      try {\n",
              "        const charts = await google.colab.kernel.invokeFunction(\n",
              "            'suggestCharts', [key], {});\n",
              "      } catch (error) {\n",
              "        console.error('Error during call to suggestCharts:', error);\n",
              "      }\n",
              "      quickchartButtonEl.classList.remove('colab-df-spinner');\n",
              "      quickchartButtonEl.classList.add('colab-df-quickchart-complete');\n",
              "    }\n",
              "    (() => {\n",
              "      let quickchartButtonEl =\n",
              "        document.querySelector('#df-58e73dc2-ec99-4a76-9992-31095b39194c button');\n",
              "      quickchartButtonEl.style.display =\n",
              "        google.colab.kernel.accessAllowed ? 'block' : 'none';\n",
              "    })();\n",
              "  </script>\n",
              "</div>\n",
              "    </div>\n",
              "  </div>\n"
            ]
          },
          "metadata": {},
          "execution_count": 26
        }
      ]
    },
    {
      "cell_type": "code",
      "source": [
        "#Use the Open Stock Price Column to Train Your Model.\n",
        "training_set = train_data.iloc[:,1:2].values\n",
        "training_set"
      ],
      "metadata": {
        "colab": {
          "base_uri": "https://localhost:8080/"
        },
        "id": "vgcSQRwpNANa",
        "outputId": "e7e04589-7551-40c2-cb47-6a2564de2efe"
      },
      "execution_count": 27,
      "outputs": [
        {
          "output_type": "execute_result",
          "data": {
            "text/plain": [
              "array([[325.25],\n",
              "       [331.27],\n",
              "       [329.83],\n",
              "       ...,\n",
              "       [793.7 ],\n",
              "       [783.33],\n",
              "       [782.75]])"
            ]
          },
          "metadata": {},
          "execution_count": 27
        }
      ]
    },
    {
      "cell_type": "code",
      "source": [
        "training_set.shape"
      ],
      "metadata": {
        "colab": {
          "base_uri": "https://localhost:8080/"
        },
        "id": "wJy7SIwQNv4y",
        "outputId": "1dfddd8b-a5d0-4f9b-d5f7-fd5e47a0d4be"
      },
      "execution_count": 28,
      "outputs": [
        {
          "output_type": "execute_result",
          "data": {
            "text/plain": [
              "(1258, 1)"
            ]
          },
          "metadata": {},
          "execution_count": 28
        }
      ]
    },
    {
      "cell_type": "code",
      "source": [
        "#Normalizing the Dataset.\n",
        "from sklearn.preprocessing import MinMaxScaler\n",
        "\n",
        "scaler = MinMaxScaler(feature_range = (0,1))\n",
        "scaled_training_set = scaler.fit_transform(training_set)\n",
        "\n",
        "scaled_training_set"
      ],
      "metadata": {
        "id": "JFWkjrIdN11i",
        "colab": {
          "base_uri": "https://localhost:8080/"
        },
        "outputId": "262d35fb-b6af-4b87-a591-a19b44aa7cf3"
      },
      "execution_count": 29,
      "outputs": [
        {
          "output_type": "execute_result",
          "data": {
            "text/plain": [
              "array([[0.08581368],\n",
              "       [0.09701243],\n",
              "       [0.09433366],\n",
              "       ...,\n",
              "       [0.95725128],\n",
              "       [0.93796041],\n",
              "       [0.93688146]])"
            ]
          },
          "metadata": {},
          "execution_count": 29
        }
      ]
    },
    {
      "cell_type": "code",
      "source": [
        "#Creating X_train and y_train Data Structures\n",
        "X_train = []\n",
        "Y_train = []\n",
        "for i in range(60,1258):\n",
        "  X_train.append(scaled_training_set[i-60:i, 0])\n",
        "  Y_train.append(scaled_training_set[i, 0])\n",
        "X_train = np.array(X_train)\n",
        "Y_train = np.array(Y_train)"
      ],
      "metadata": {
        "id": "rMA2WQ21NkZi"
      },
      "execution_count": 30,
      "outputs": []
    },
    {
      "cell_type": "code",
      "source": [
        " X_train.shape"
      ],
      "metadata": {
        "colab": {
          "base_uri": "https://localhost:8080/"
        },
        "id": "F-F3_DxlPCl6",
        "outputId": "857c3eb2-41eb-42ca-b285-c7af33a1d9ae"
      },
      "execution_count": 31,
      "outputs": [
        {
          "output_type": "execute_result",
          "data": {
            "text/plain": [
              "(1198, 60)"
            ]
          },
          "metadata": {},
          "execution_count": 31
        }
      ]
    },
    {
      "cell_type": "code",
      "source": [
        "Y_train.shape"
      ],
      "metadata": {
        "colab": {
          "base_uri": "https://localhost:8080/"
        },
        "id": "hzDxBJ-VPpLG",
        "outputId": "4f65c5d0-ddad-48e6-8fe5-1a185a707fca"
      },
      "execution_count": 32,
      "outputs": [
        {
          "output_type": "execute_result",
          "data": {
            "text/plain": [
              "(1198,)"
            ]
          },
          "metadata": {},
          "execution_count": 32
        }
      ]
    },
    {
      "cell_type": "code",
      "source": [
        "#Reshape the Data\n",
        "X_train = np.reshape(X_train,(X_train.shape[0], X_train.shape[1], 1))\n",
        "X_train.shape"
      ],
      "metadata": {
        "id": "BD9HLR5dPrfX",
        "colab": {
          "base_uri": "https://localhost:8080/"
        },
        "outputId": "f3ded309-3547-44ef-e25b-66b3d0dc9529"
      },
      "execution_count": 33,
      "outputs": [
        {
          "output_type": "execute_result",
          "data": {
            "text/plain": [
              "(1198, 60, 1)"
            ]
          },
          "metadata": {},
          "execution_count": 33
        }
      ]
    },
    {
      "cell_type": "code",
      "source": [
        "#Building the Model by Importing the Crucial Libraries and Adding Different Layers to LSTM\n",
        "from keras.models import Sequential\n",
        "from keras.layers import LSTM\n",
        "from keras.layers import Dense\n",
        "from keras.layers import Dropout"
      ],
      "metadata": {
        "id": "dCKvOBnJPwZH"
      },
      "execution_count": 34,
      "outputs": []
    },
    {
      "cell_type": "code",
      "source": [
        "regressor = Sequential()\n",
        "regressor.add(LSTM(units = 50, return_sequences = True, input_shape = (X_train.shape[1], 1)))\n",
        "regressor.add(Dropout(0.2))\n",
        "\n",
        "regressor.add(LSTM(units = 50, return_sequences = True))\n",
        "regressor.add(Dropout(0.2))\n",
        "\n",
        "regressor.add(LSTM(units = 50, return_sequences = True))\n",
        "regressor.add(Dropout(0.2))\n",
        "\n",
        "regressor.add(LSTM(units = 50))\n",
        "regressor.add(Dropout(0.2))\n",
        "\n",
        "regressor.add(Dense(units = 1))"
      ],
      "metadata": {
        "id": "2j-oXLUYLDEc"
      },
      "execution_count": 35,
      "outputs": []
    },
    {
      "cell_type": "code",
      "source": [
        "#Fitting the Model\n",
        "regressor.compile(optimizer = 'adam', loss = 'mean_squared_error')\n",
        "regressor.fit(X_train, Y_train, epochs = 100, batch_size = 32)"
      ],
      "metadata": {
        "colab": {
          "base_uri": "https://localhost:8080/"
        },
        "id": "wIAKzDCOMMoF",
        "outputId": "1dbc4cd6-65ae-446f-8966-1ad4e6026f9f"
      },
      "execution_count": 36,
      "outputs": [
        {
          "output_type": "stream",
          "name": "stdout",
          "text": [
            "Epoch 1/100\n",
            "38/38 [==============================] - 13s 109ms/step - loss: 0.0458\n",
            "Epoch 2/100\n",
            "38/38 [==============================] - 4s 107ms/step - loss: 0.0064\n",
            "Epoch 3/100\n",
            "38/38 [==============================] - 5s 143ms/step - loss: 0.0062\n",
            "Epoch 4/100\n",
            "38/38 [==============================] - 4s 106ms/step - loss: 0.0055\n",
            "Epoch 5/100\n",
            "38/38 [==============================] - 4s 108ms/step - loss: 0.0048\n",
            "Epoch 6/100\n",
            "38/38 [==============================] - 5s 142ms/step - loss: 0.0046\n",
            "Epoch 7/100\n",
            "38/38 [==============================] - 4s 118ms/step - loss: 0.0044\n",
            "Epoch 8/100\n",
            "38/38 [==============================] - 4s 108ms/step - loss: 0.0041\n",
            "Epoch 9/100\n",
            "38/38 [==============================] - 5s 140ms/step - loss: 0.0053\n",
            "Epoch 10/100\n",
            "38/38 [==============================] - 4s 109ms/step - loss: 0.0044\n",
            "Epoch 11/100\n",
            "38/38 [==============================] - 5s 124ms/step - loss: 0.0043\n",
            "Epoch 12/100\n",
            "38/38 [==============================] - 5s 123ms/step - loss: 0.0035\n",
            "Epoch 13/100\n",
            "38/38 [==============================] - 4s 108ms/step - loss: 0.0039\n",
            "Epoch 14/100\n",
            "38/38 [==============================] - 5s 138ms/step - loss: 0.0038\n",
            "Epoch 15/100\n",
            "38/38 [==============================] - 5s 122ms/step - loss: 0.0036\n",
            "Epoch 16/100\n",
            "38/38 [==============================] - 4s 109ms/step - loss: 0.0039\n",
            "Epoch 17/100\n",
            "38/38 [==============================] - 5s 141ms/step - loss: 0.0046\n",
            "Epoch 18/100\n",
            "38/38 [==============================] - 4s 108ms/step - loss: 0.0038\n",
            "Epoch 19/100\n",
            "38/38 [==============================] - 4s 112ms/step - loss: 0.0037\n",
            "Epoch 20/100\n",
            "38/38 [==============================] - 5s 144ms/step - loss: 0.0032\n",
            "Epoch 21/100\n",
            "38/38 [==============================] - 4s 108ms/step - loss: 0.0043\n",
            "Epoch 22/100\n",
            "38/38 [==============================] - 5s 124ms/step - loss: 0.0033\n",
            "Epoch 23/100\n",
            "38/38 [==============================] - 5s 130ms/step - loss: 0.0035\n",
            "Epoch 24/100\n",
            "38/38 [==============================] - 4s 113ms/step - loss: 0.0036\n",
            "Epoch 25/100\n",
            "38/38 [==============================] - 5s 144ms/step - loss: 0.0031\n",
            "Epoch 26/100\n",
            "38/38 [==============================] - 4s 113ms/step - loss: 0.0032\n",
            "Epoch 27/100\n",
            "38/38 [==============================] - 6s 150ms/step - loss: 0.0034\n",
            "Epoch 28/100\n",
            "38/38 [==============================] - 6s 145ms/step - loss: 0.0029\n",
            "Epoch 29/100\n",
            "38/38 [==============================] - 4s 113ms/step - loss: 0.0031\n",
            "Epoch 30/100\n",
            "38/38 [==============================] - 5s 129ms/step - loss: 0.0028\n",
            "Epoch 31/100\n",
            "38/38 [==============================] - 5s 120ms/step - loss: 0.0028\n",
            "Epoch 32/100\n",
            "38/38 [==============================] - 4s 111ms/step - loss: 0.0030\n",
            "Epoch 33/100\n",
            "38/38 [==============================] - 5s 139ms/step - loss: 0.0028\n",
            "Epoch 34/100\n",
            "38/38 [==============================] - 4s 111ms/step - loss: 0.0027\n",
            "Epoch 35/100\n",
            "38/38 [==============================] - 4s 108ms/step - loss: 0.0026\n",
            "Epoch 36/100\n",
            "38/38 [==============================] - 6s 148ms/step - loss: 0.0028\n",
            "Epoch 37/100\n",
            "38/38 [==============================] - 4s 109ms/step - loss: 0.0027\n",
            "Epoch 38/100\n",
            "38/38 [==============================] - 4s 109ms/step - loss: 0.0028\n",
            "Epoch 39/100\n",
            "38/38 [==============================] - 5s 140ms/step - loss: 0.0027\n",
            "Epoch 40/100\n",
            "38/38 [==============================] - 4s 112ms/step - loss: 0.0027\n",
            "Epoch 41/100\n",
            "38/38 [==============================] - 5s 129ms/step - loss: 0.0027\n",
            "Epoch 42/100\n",
            "38/38 [==============================] - 5s 131ms/step - loss: 0.0026\n",
            "Epoch 43/100\n",
            "38/38 [==============================] - 4s 111ms/step - loss: 0.0027\n",
            "Epoch 44/100\n",
            "38/38 [==============================] - 5s 137ms/step - loss: 0.0029\n",
            "Epoch 45/100\n",
            "38/38 [==============================] - 5s 118ms/step - loss: 0.0025\n",
            "Epoch 46/100\n",
            "38/38 [==============================] - 4s 112ms/step - loss: 0.0025\n",
            "Epoch 47/100\n",
            "38/38 [==============================] - 5s 144ms/step - loss: 0.0022\n",
            "Epoch 48/100\n",
            "38/38 [==============================] - 4s 111ms/step - loss: 0.0025\n",
            "Epoch 49/100\n",
            "38/38 [==============================] - 4s 111ms/step - loss: 0.0022\n",
            "Epoch 50/100\n",
            "38/38 [==============================] - 5s 143ms/step - loss: 0.0021\n",
            "Epoch 51/100\n",
            "38/38 [==============================] - 4s 110ms/step - loss: 0.0021\n",
            "Epoch 52/100\n",
            "38/38 [==============================] - 4s 111ms/step - loss: 0.0022\n",
            "Epoch 53/100\n",
            "38/38 [==============================] - 5s 137ms/step - loss: 0.0024\n",
            "Epoch 54/100\n",
            "38/38 [==============================] - 4s 111ms/step - loss: 0.0023\n",
            "Epoch 55/100\n",
            "38/38 [==============================] - 5s 131ms/step - loss: 0.0026\n",
            "Epoch 56/100\n",
            "38/38 [==============================] - 5s 121ms/step - loss: 0.0021\n",
            "Epoch 57/100\n",
            "38/38 [==============================] - 4s 111ms/step - loss: 0.0023\n",
            "Epoch 58/100\n",
            "38/38 [==============================] - 5s 141ms/step - loss: 0.0021\n",
            "Epoch 59/100\n",
            "38/38 [==============================] - 4s 108ms/step - loss: 0.0022\n",
            "Epoch 60/100\n",
            "38/38 [==============================] - 4s 110ms/step - loss: 0.0021\n",
            "Epoch 61/100\n",
            "38/38 [==============================] - 5s 140ms/step - loss: 0.0020\n",
            "Epoch 62/100\n",
            "38/38 [==============================] - 4s 107ms/step - loss: 0.0021\n",
            "Epoch 63/100\n",
            "38/38 [==============================] - 4s 108ms/step - loss: 0.0021\n",
            "Epoch 64/100\n",
            "38/38 [==============================] - 5s 141ms/step - loss: 0.0019\n",
            "Epoch 65/100\n",
            "38/38 [==============================] - 4s 109ms/step - loss: 0.0020\n",
            "Epoch 66/100\n",
            "38/38 [==============================] - 4s 110ms/step - loss: 0.0020\n",
            "Epoch 67/100\n",
            "38/38 [==============================] - 5s 141ms/step - loss: 0.0018\n",
            "Epoch 68/100\n",
            "38/38 [==============================] - 4s 110ms/step - loss: 0.0019\n",
            "Epoch 69/100\n",
            "38/38 [==============================] - 5s 123ms/step - loss: 0.0019\n",
            "Epoch 70/100\n",
            "38/38 [==============================] - 5s 127ms/step - loss: 0.0020\n",
            "Epoch 71/100\n",
            "38/38 [==============================] - 4s 110ms/step - loss: 0.0017\n",
            "Epoch 72/100\n",
            "38/38 [==============================] - 5s 143ms/step - loss: 0.0016\n",
            "Epoch 73/100\n",
            "38/38 [==============================] - 4s 110ms/step - loss: 0.0018\n",
            "Epoch 74/100\n",
            "38/38 [==============================] - 4s 109ms/step - loss: 0.0018\n",
            "Epoch 75/100\n",
            "38/38 [==============================] - 5s 140ms/step - loss: 0.0017\n",
            "Epoch 76/100\n",
            "38/38 [==============================] - 4s 109ms/step - loss: 0.0018\n",
            "Epoch 77/100\n",
            "38/38 [==============================] - 4s 112ms/step - loss: 0.0018\n",
            "Epoch 78/100\n",
            "38/38 [==============================] - 5s 140ms/step - loss: 0.0018\n",
            "Epoch 79/100\n",
            "38/38 [==============================] - 4s 108ms/step - loss: 0.0017\n",
            "Epoch 80/100\n",
            "38/38 [==============================] - 4s 113ms/step - loss: 0.0016\n",
            "Epoch 81/100\n",
            "38/38 [==============================] - 5s 141ms/step - loss: 0.0018\n",
            "Epoch 82/100\n",
            "38/38 [==============================] - 4s 112ms/step - loss: 0.0018\n",
            "Epoch 83/100\n",
            "38/38 [==============================] - 5s 132ms/step - loss: 0.0017\n",
            "Epoch 84/100\n",
            "38/38 [==============================] - 5s 122ms/step - loss: 0.0018\n",
            "Epoch 85/100\n",
            "38/38 [==============================] - 4s 111ms/step - loss: 0.0020\n",
            "Epoch 86/100\n",
            "38/38 [==============================] - 5s 145ms/step - loss: 0.0015\n",
            "Epoch 87/100\n",
            "38/38 [==============================] - 4s 113ms/step - loss: 0.0017\n",
            "Epoch 88/100\n",
            "38/38 [==============================] - 4s 113ms/step - loss: 0.0014\n",
            "Epoch 89/100\n",
            "38/38 [==============================] - 6s 146ms/step - loss: 0.0014\n",
            "Epoch 90/100\n",
            "38/38 [==============================] - 4s 114ms/step - loss: 0.0016\n",
            "Epoch 91/100\n",
            "38/38 [==============================] - 4s 110ms/step - loss: 0.0015\n",
            "Epoch 92/100\n",
            "38/38 [==============================] - 6s 149ms/step - loss: 0.0015\n",
            "Epoch 93/100\n",
            "38/38 [==============================] - 4s 116ms/step - loss: 0.0016\n",
            "Epoch 94/100\n",
            "38/38 [==============================] - 5s 136ms/step - loss: 0.0013\n",
            "Epoch 95/100\n",
            "38/38 [==============================] - 5s 121ms/step - loss: 0.0014\n",
            "Epoch 96/100\n",
            "38/38 [==============================] - 4s 112ms/step - loss: 0.0014\n",
            "Epoch 97/100\n",
            "38/38 [==============================] - 5s 144ms/step - loss: 0.0015\n",
            "Epoch 98/100\n",
            "38/38 [==============================] - 4s 110ms/step - loss: 0.0014\n",
            "Epoch 99/100\n",
            "38/38 [==============================] - 4s 111ms/step - loss: 0.0017\n",
            "Epoch 100/100\n",
            "38/38 [==============================] - 5s 143ms/step - loss: 0.0013\n"
          ]
        },
        {
          "output_type": "execute_result",
          "data": {
            "text/plain": [
              "<keras.src.callbacks.History at 0x7db31f675960>"
            ]
          },
          "metadata": {},
          "execution_count": 36
        }
      ]
    },
    {
      "cell_type": "code",
      "source": [
        "#Extracting the Actual Stock Prices of Jan-2017\n",
        "test_data = pd.read_csv('/content/Google_Stock_Price_Test.csv')\n",
        "actual_stock_price = test_data.iloc[:,1:2].values"
      ],
      "metadata": {
        "id": "Nt8ZK-yiQa6H"
      },
      "execution_count": 37,
      "outputs": []
    },
    {
      "cell_type": "code",
      "source": [
        "#Preparing the Input for the Model\n",
        "dataset_total = pd.concat((train_data['Open'], test_data['Open']), axis = 0)\n",
        "inputs = dataset_total[len(dataset_total) - len(test_data) - 60:].values\n",
        "\n",
        "inputs = inputs.reshape(-1, 1)\n",
        "inputs = scaler.transform(inputs)\n",
        "\n",
        "X_test = []\n",
        "for i in range(60, 80):\n",
        "  X_test.append(inputs[i-60:i, 0])\n",
        "X_test = np.array(X_test)\n",
        "X_test = np.reshape(X_test,(X_test.shape[0], X_test.shape[1], 1))"
      ],
      "metadata": {
        "id": "g6d50A5ZU9U1"
      },
      "execution_count": 38,
      "outputs": []
    },
    {
      "cell_type": "code",
      "source": [
        "#Predicting the Values for Jan 2017 Stock Prices\n",
        "predicted_stock_price = regressor.predict(X_test)\n",
        "predicted_stock_price = scaler.inverse_transform(predicted_stock_price)"
      ],
      "metadata": {
        "colab": {
          "base_uri": "https://localhost:8080/"
        },
        "id": "EL7fr_hcW1sz",
        "outputId": "45bfacb9-4444-4d8f-9783-591340dafc19"
      },
      "execution_count": 39,
      "outputs": [
        {
          "output_type": "stream",
          "name": "stdout",
          "text": [
            "1/1 [==============================] - 1s 1s/step\n"
          ]
        }
      ]
    },
    {
      "cell_type": "code",
      "source": [
        "#Plotting the Actual and Predicted Prices for Google Stocks\n",
        "plt.plot(actual_stock_price, color = 'red', label = 'Actual Google stock price')\n",
        "plt.plot(predicted_stock_price, color = 'blue', label = 'Predicted Google stock price')\n",
        "plt.title('Google Stock price Prediction')\n",
        "plt.xlabel('Time')\n",
        "plt.ylabel('Stock price')\n",
        "plt.legend()\n",
        "plt.show()"
      ],
      "metadata": {
        "id": "ITO_6kUfXUC8",
        "colab": {
          "base_uri": "https://localhost:8080/",
          "height": 472
        },
        "outputId": "a865ece9-6d8f-45aa-f21c-c8202a6c6bac"
      },
      "execution_count": 40,
      "outputs": [
        {
          "output_type": "display_data",
          "data": {
            "text/plain": [
              "<Figure size 640x480 with 1 Axes>"
            ],
            "image/png": "[encoded data removed]"
          },
          "metadata": {}
        }
      ]
    },
    {
      "cell_type": "code",
      "source": [],
      "metadata": {
        "id": "HIlyMVQjaVXO"
      },
      "execution_count": 40,
      "outputs": []
    }
  ]
}